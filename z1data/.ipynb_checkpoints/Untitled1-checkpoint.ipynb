{
 "metadata": {
  "name": "",
  "signature": "sha256:edb0b51a2ade3670ad2c7d5f30fb6ccf0c96eb09360e73fbf660596efa6a28c3"
 },
 "nbformat": 3,
 "nbformat_minor": 0,
 "worksheets": []
}