{
 "metadata": {
  "name": "",
  "signature": "sha256:11a916bb2da9895cf3b5f86498497646433700058c5ce6c30fafb3062bf20c2a"
 },
 "nbformat": 3,
 "nbformat_minor": 0,
 "worksheets": [
  {
   "cells": [
    {
     "cell_type": "code",
     "collapsed": false,
     "input": [
      "import xml.etree.ElementTree as ET\n",
      "tree = ET.parse('country_data.xml')\n",
      "root = tree.getroot()"
     ],
     "language": "python",
     "metadata": {},
     "outputs": [],
     "prompt_number": 1
    },
    {
     "cell_type": "code",
     "collapsed": false,
     "input": [
      "root.tag"
     ],
     "language": "python",
     "metadata": {},
     "outputs": [
      {
       "metadata": {},
       "output_type": "pyout",
       "prompt_number": 2,
       "text": [
        "'data'"
       ]
      }
     ],
     "prompt_number": 2
    },
    {
     "cell_type": "code",
     "collapsed": false,
     "input": [
      "root.attrib"
     ],
     "language": "python",
     "metadata": {},
     "outputs": [
      {
       "metadata": {},
       "output_type": "pyout",
       "prompt_number": 3,
       "text": [
        "{}"
       ]
      }
     ],
     "prompt_number": 3
    },
    {
     "cell_type": "code",
     "collapsed": false,
     "input": [
      "for child in root:\n",
      "    print child.tag, child.attrib"
     ],
     "language": "python",
     "metadata": {},
     "outputs": [
      {
       "output_type": "stream",
       "stream": "stdout",
       "text": [
        "country {'name': 'Liechtenstein'}\n",
        "country {'name': 'Singapore'}\n",
        "country {'name': 'Panama'}\n"
       ]
      }
     ],
     "prompt_number": 4
    },
    {
     "cell_type": "code",
     "collapsed": false,
     "input": [
      "\n",
      "\n",
      "\n",
      "\n"
     ],
     "language": "python",
     "metadata": {},
     "outputs": [],
     "prompt_number": 4
    },
    {
     "cell_type": "code",
     "collapsed": false,
     "input": [],
     "language": "python",
     "metadata": {},
     "outputs": [],
     "prompt_number": 4
    },
    {
     "cell_type": "code",
     "collapsed": false,
     "input": [],
     "language": "python",
     "metadata": {},
     "outputs": [],
     "prompt_number": 4
    },
    {
     "cell_type": "code",
     "collapsed": false,
     "input": [],
     "language": "python",
     "metadata": {},
     "outputs": [],
     "prompt_number": 4
    },
    {
     "cell_type": "code",
     "collapsed": false,
     "input": [],
     "language": "python",
     "metadata": {},
     "outputs": [],
     "prompt_number": 4
    },
    {
     "cell_type": "code",
     "collapsed": false,
     "input": [
      "tree2 = ET.parse('Z1_data.xml')\n",
      "root2 = tree2.getroot()"
     ],
     "language": "python",
     "metadata": {},
     "outputs": [],
     "prompt_number": 25
    },
    {
     "cell_type": "code",
     "collapsed": false,
     "input": [
      "for child in root2:\n",
      "    print child.tag, child.attrib"
     ],
     "language": "python",
     "metadata": {},
     "outputs": [
      {
       "output_type": "stream",
       "stream": "stdout",
       "text": [
        "{http://www.SDMX.org/resources/SDMXML/schemas/v1_0/message}Header {}\n",
        "{http://www.federalreserve.gov/structure/compact/common}DataSet {'{http://www.w3.org/2001/XMLSchema-instance}schemaLocation': 'http://www.federalreserve.gov/structure/compact/Z1_Z1 Z1_Z1.xsd', 'id': 'Z1'}\n",
        "{http://www.federalreserve.gov/structure/compact/common}DataSet {'{http://www.w3.org/2001/XMLSchema-instance}schemaLocation': 'http://www.federalreserve.gov/structure/compact/Z1_OTHER Z1_OTHER.xsd', 'id': 'OTHER'}\n"
       ]
      }
     ],
     "prompt_number": 26
    },
    {
     "cell_type": "code",
     "collapsed": false,
     "input": [
      "for series in root2.iter('DataSet'):\n",
      "    print series.attrib"
     ],
     "language": "python",
     "metadata": {},
     "outputs": [],
     "prompt_number": 29
    },
    {
     "cell_type": "code",
     "collapsed": false,
     "input": [
      "for child in root2:\n",
      "    print child.tag, child.attrib"
     ],
     "language": "python",
     "metadata": {},
     "outputs": [
      {
       "output_type": "stream",
       "stream": "stdout",
       "text": [
        "{http://www.SDMX.org/resources/SDMXML/schemas/v1_0/message}Header {}\n",
        "{http://www.federalreserve.gov/structure/compact/common}DataSet {'{http://www.w3.org/2001/XMLSchema-instance}schemaLocation': 'http://www.federalreserve.gov/structure/compact/Z1_Z1 Z1_Z1.xsd', 'id': 'Z1'}\n",
        "{http://www.federalreserve.gov/structure/compact/common}DataSet {'{http://www.w3.org/2001/XMLSchema-instance}schemaLocation': 'http://www.federalreserve.gov/structure/compact/Z1_OTHER Z1_OTHER.xsd', 'id': 'OTHER'}\n"
       ]
      }
     ],
     "prompt_number": 15
    },
    {
     "cell_type": "code",
     "collapsed": false,
     "input": [
      "for country in root.findall('country'):\n",
      "    rank = country.find('rank').text\n",
      "    name = country.get('name')\n",
      "    print name, rank"
     ],
     "language": "python",
     "metadata": {},
     "outputs": [
      {
       "output_type": "stream",
       "stream": "stdout",
       "text": [
        "Liechtenstein 1\n",
        "Singapore 4\n",
        "Panama 68\n"
       ]
      }
     ],
     "prompt_number": 21
    },
    {
     "cell_type": "code",
     "collapsed": false,
     "input": [
      "for country in root2.findall('kf:Series'):\n",
      "    rank = country.find('CURRENCY').text\n",
      "    name = country.get('FREQ')\n",
      "    print name, rank"
     ],
     "language": "python",
     "metadata": {},
     "outputs": [
      {
       "ename": "SyntaxError",
       "evalue": "prefix 'kf' not found in prefix map",
       "output_type": "pyerr",
       "traceback": [
        "\u001b[0;36m  File \u001b[0;32m\"<string>\"\u001b[0;36m, line \u001b[0;32munknown\u001b[0m\n\u001b[0;31mSyntaxError\u001b[0m\u001b[0;31m:\u001b[0m prefix 'kf' not found in prefix map\n"
       ]
      }
     ],
     "prompt_number": 28
    },
    {
     "cell_type": "code",
     "collapsed": false,
     "input": [
      "x = 0\n",
      "namespaces = {'frb': 'xmlns:frb=\"http://www.federalreserve.gov/structure/compact/common/frb#','kf': 'xmlns:kf=\"http://www.federalreserve.gov/structure/compact/Z1_Z1/kf#'} # add more as needed\n",
      "# for elem in tree.iterfind('kf:Series', namespaces):\n",
      "#     x+=1\n",
      "#     print elem.tag, elem.attrib\n",
      "# print x\n",
      "\n",
      "root.findall('frb:DataSet/kf:Series', namespaces)"
     ],
     "language": "python",
     "metadata": {},
     "outputs": [
      {
       "metadata": {},
       "output_type": "pyout",
       "prompt_number": 51,
       "text": [
        "[]"
       ]
      }
     ],
     "prompt_number": 51
    },
    {
     "cell_type": "code",
     "collapsed": false,
     "input": [
      "namespaces = {'owl': 'http://www.w3.org/2002/07/owl#'} # add more as needed\n",
      "\n",
      "root.findall('owl:Class', namespaces)"
     ],
     "language": "python",
     "metadata": {},
     "outputs": []
    },
    {
     "cell_type": "code",
     "collapsed": false,
     "input": [
      "def parser(file_name):\n",
      "    document = etree.parse(file_name)\n",
      "#     titles = document.findall('.//title')\n",
      "    Series = document.findall('.//{http://www.mediawiki.org/xml/export-0.7/}kf:Series')\n",
      "    print Series"
     ],
     "language": "python",
     "metadata": {},
     "outputs": [],
     "prompt_number": 52
    },
    {
     "cell_type": "raw",
     "metadata": {},
     "source": []
    },
    {
     "cell_type": "code",
     "collapsed": false,
     "input": [],
     "language": "python",
     "metadata": {},
     "outputs": []
    }
   ],
   "metadata": {}
  }
 ]
}