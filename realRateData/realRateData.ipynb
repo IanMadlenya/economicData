{
 "cells": [
  {
   "cell_type": "code",
   "execution_count": 1,
   "metadata": {
    "collapsed": false
   },
   "outputs": [
    {
     "ename": "SyntaxError",
     "evalue": "Missing parentheses in call to 'print' (fredclass.py, line 250)",
     "output_type": "error",
     "traceback": [
      "\u001b[0;36m  File \u001b[0;32m\"/Users/brianjenkins/dropbox/GitHub/economicData/realRateData/fredclass.py\"\u001b[0;36m, line \u001b[0;32m250\u001b[0m\n\u001b[0;31m    print 'Warning: data frequency is not quarterly!'\u001b[0m\n\u001b[0m                                                    ^\u001b[0m\n\u001b[0;31mSyntaxError\u001b[0m\u001b[0;31m:\u001b[0m Missing parentheses in call to 'print'\n"
     ]
    }
   ],
   "source": [
    "from __future__ import division\n",
    "import numpy as np\n",
    "import matplotlib.pyplot as plt\n",
    "import matplotlib.dates as dts\n",
    "import pandas as pd\n",
    "from fredclass import fred, window_equalize\n",
    "import datetime,dateutil,urllib,runProcs\n",
    "%matplotlib inline"
   ]
  },
  {
   "cell_type": "code",
   "execution_count": null,
   "metadata": {
    "collapsed": false
   },
   "outputs": [],
   "source": [
    "# 1. Import the most recent inflation forecast data from the Philadelphia Fed, Survey of Professional Forecasters\n",
    "dls = \"http://www.philadelphiafed.org/research-and-data/real-time-center/survey-of-professional-forecasters/data-files/files/Median_PGDP_Level.xls\"\n",
    "urllib.urlretrieve(dls, \"gdpDeflatorForecast.xls\")\n",
    "\n",
    "# dls = \"http://www.philadelphiafed.org/research-and-data/real-time-center/survey-of-professional-forecasters/data-files/files/Median_RGDP_Level.xls\"\n",
    "# urllib.urlretrieve(dls, \"realGdpForecast.xls\")\n",
    "\n",
    "# dls = \"http://www.philadelphiafed.org/research-and-data/real-time-center/survey-of-professional-forecasters/data-files/files/Median_RCONSUM_Level.xls\"\n",
    "# urllib.urlretrieve(dls, \"realConsumptionForecast.xls\")"
   ]
  },
  {
   "cell_type": "code",
   "execution_count": null,
   "metadata": {
    "collapsed": false
   },
   "outputs": [],
   "source": [
    "# 2. Download and manage data from FRED\n",
    "\n",
    "# 2.1 Download\n",
    "interestA = fred('GS1')\n",
    "realInterestExAnteA = fred('GS1')\n",
    "\n",
    "popA = fred('CNP16OV')\n",
    "\n",
    "\n",
    "gdpDeflatorA = fred('A191RD3A086NBEA')\n",
    "consGrowthA= fred('PCECCA')\n",
    "gdpGrowthA= fred('GDPCA')\n",
    "\n",
    "# 2.2 manage data\n",
    "interestA.monthtoannual(method='AVG')\n",
    "realInterestExAnteA.monthtoannual(method='AVG')\n",
    "popA.monthtoannual(method='END')\n",
    "gdpDeflatorA.apc(method='forward')\n",
    "consGrowthA.apc(method='forward')\n",
    "gdpGrowthA.apc(method='forward')\n",
    "popA.apc(method='forward')\n",
    "\n",
    "win = ['07-01-1970','01-01-2200']\n",
    "interestA.window(win)\n",
    "realInterestExAnteA.window(win)\n",
    "gdpDeflatorA.window(win)\n",
    "consGrowthA.window(win)\n",
    "gdpGrowthA.window(win)\n",
    "popA.window(win)"
   ]
  },
  {
   "cell_type": "code",
   "execution_count": null,
   "metadata": {
    "collapsed": false
   },
   "outputs": [],
   "source": [
    "# 3. Create forecast series as FRED objects\n",
    "\n",
    "# 3.1 import the forecasts from Excel file\n",
    "\n",
    "inflationForecast = pd.read_excel('gdpDeflatorForecast.xls')\n",
    "\n",
    "# 3.2 fill in missing values by interpolation and compute the forecasted 4-quarter ahead growth rates\n",
    "inflationForecast= inflationForecast.iloc[6:]\n",
    "inflationForecast[['PGDP6','PGDP3','PGDP2']] = inflationForecast[['PGDP6','PGDP3','PGDP2']].interpolate()\n",
    "inflationForecast['inflation A'] = 100* ( inflationForecast['PGDP6']/inflationForecast['PGDP2']-1)\n",
    "\n",
    "# 3.2 initialize a FRED object\n",
    "inflationForecastA=fred('GDPDEF')"
   ]
  },
  {
   "cell_type": "code",
   "execution_count": null,
   "metadata": {
    "collapsed": false
   },
   "outputs": [],
   "source": [
    "# 4 Define function to associate forecasts with dates.\n",
    "def forecastDates(forecastDataFrame):\n",
    "    dates = []\n",
    "    for i,ind in enumerate(forecastDataFrame.index):\n",
    "        year =int(forecastDataFrame.iloc[i]['YEAR'])\n",
    "        quart=int(forecastDataFrame.iloc[i]['QUARTER'])\n",
    "        if quart == 1:\n",
    "            month = '04'\n",
    "        elif quart == 2:\n",
    "            month = '07'\n",
    "        elif quart == 3:\n",
    "            month = '10'\n",
    "        else:\n",
    "            month = '01'\n",
    "            year=year+1\n",
    "        date = month+'-01-'+str(year)\n",
    "        dates.append(date)\n",
    "    dateNumbers = [dateutil.parser.parse(s) for s in dates]\n",
    "    return dates, dateNumbers"
   ]
  },
  {
   "cell_type": "code",
   "execution_count": null,
   "metadata": {
    "collapsed": false
   },
   "outputs": [],
   "source": [
    "# 5. Create FRED forecast objects\n",
    "\n",
    "inflationForecastA.data = inflationForecast['inflation A'].values.tolist()\n",
    "inflationForecastA.dates, inflationForecastA.datenums = forecastDates(inflationForecast)\n",
    "inflationForecastA.title = 'one-year ahead inflation forecast'\n",
    "inflationForecastA.quartertoannual(method='AVG')"
   ]
  },
  {
   "cell_type": "code",
   "execution_count": null,
   "metadata": {
    "collapsed": false
   },
   "outputs": [],
   "source": [
    "# 5.3 Create the ex ante real interest rate data\n",
    "window_equalize([realInterestExAnteA,interestA,inflationForecastA,gdpDeflatorA,consGrowthA,gdpGrowthA,popA])\n",
    "realInterestExAnteA.data = [i-p for i,p in zip(interestA.data,inflationForecastA.data)]\n",
    "realInterestExAnteA.title = 'ex ante real interest rate'"
   ]
  },
  {
   "cell_type": "code",
   "execution_count": null,
   "metadata": {
    "collapsed": false
   },
   "outputs": [],
   "source": [
    "# 6. Export the data\n",
    "\n",
    "inflationForecastDf=np.round(pd.DataFrame({'1-year inflation forecast':inflationForecastA.data,'1-year actual inflation':gdpDeflatorA.data,'1-year nominal interest rate':interestA.data,'1-year ahead consumption growth':consGrowthA.data,'1-year population growth':popA.data},index = interestA.dates),4)\n",
    "inflationForecastDf[[u'1-year nominal interest rate', u'1-year inflation forecast', u'1-year actual inflation', u'1-year ahead consumption growth',u'1-year population growth']].to_csv('inflationForecastDataAnnual.csv',index=True,index_label='date')"
   ]
  },
  {
   "cell_type": "code",
   "execution_count": null,
   "metadata": {
    "collapsed": false
   },
   "outputs": [],
   "source": [
    "# 7. Plot\n",
    "\n",
    "# 7.1 general plot settings\n",
    "\n",
    "font = {'weight' : 'bold',\n",
    "        'size'   : 15}\n",
    "plt.rc('font', **font)\n",
    "plt.rcParams['xtick.major.pad']='8'\n",
    "plt.rcParams['ytick.major.pad']='8'\n",
    "\n",
    "\n",
    "# 7.2 Formatter for inserting commas in y axis labels with magnitudes in the thousands\n",
    "\n",
    "def func(x, pos):  # formatter function takes tick label and tick position\n",
    "   s = '{:0,d}'.format(int(x))\n",
    "   return s\n",
    "\n",
    "y_format = plt.FuncFormatter(func)  # make formatter\n",
    "\n",
    "# 7.3 format the x axis ticksticks\n",
    "years2,years4,years5,years10,years15= dts.YearLocator(2),dts.YearLocator(4),dts.YearLocator(5),dts.YearLocator(10),dts.YearLocator(15)\n",
    "\n",
    "\n",
    "# 7.4 y label locator for vertical axes plotting gdp\n",
    "majorLocator_y   = plt.MultipleLocator(3)\n",
    "majorLocator_shares   = plt.MultipleLocator(0.2)\n",
    "\n",
    "# 7.5 Index locator\n",
    "def findDateIndex(dateStr,fredObj):\n",
    "    for n,d in enumerate(fredObj.dates):\n",
    "        if d == dateStr:\n",
    "            return n\n"
   ]
  },
  {
   "cell_type": "code",
   "execution_count": null,
   "metadata": {
    "collapsed": false
   },
   "outputs": [],
   "source": [
    "# 7.2 Define a function for importing pandas series into FRED objects\n",
    "def pdSeriesToFRED(data,dates,title=None,t=None,season=None,freq=None,source=None,units=None,daterange=None,idCode=None,updated=None):\n",
    "    f = fred('UNRATE')\n",
    "    f.data = data\n",
    "    f.dates = dates\n",
    "    f.datenums = [dateutil.parser.parse(s) for s in f.dates]\n",
    "    f.title = title\n",
    "    f.t = t\n",
    "    f.season = season\n",
    "    f.freq = freq\n",
    "    f.source = source\n",
    "    f.units = units\n",
    "    f.daterange = daterange\n",
    "    f.idCode = idCode\n",
    "    f.updated = updated\n",
    "    return f\n",
    "\n",
    "# 7.3 Import from csv\n",
    "rateData  = pd.read_csv('inflationForecastDataAnnual.csv')\n",
    "interest = pdSeriesToFRED(data=rateData['1-year nominal interest rate'],dates=rateData['date'].tolist(),title='One-year US bond rate',freq='Annual')\n",
    "realRateExAnte= pdSeriesToFRED(data=rateData['1-year nominal interest rate'],dates=rateData['date'].tolist(),title='One-year ex ante real rate',freq='Annual')\n",
    "realRateExPost = pdSeriesToFRED(data=rateData['1-year nominal interest rate'],dates=rateData['date'].tolist(),title='One-year ex post real rate',freq='Annual')\n",
    "expectedInflation = pdSeriesToFRED(data=rateData['1-year inflation forecast'],dates=rateData['date'].tolist(),title='One-year inflation forecast',freq='Annual')\n",
    "actualInflation = pdSeriesToFRED(data=rateData['1-year actual inflation'],dates=rateData['date'].tolist(),title='One-year actual inflation',freq='Annual')\n",
    "# gdpGrowth = pdSeriesToFRED(data=rateData['1-year ahead gdp growth'],dates=rateData['date'].tolist(),title='One-year ahead gdp growth',freq='Annual')\n",
    "consGrowth = pdSeriesToFRED(data=rateData['1-year ahead consumption growth'],dates=rateData['date'].tolist(),title='One-year ahead consumption growth',freq='Annual')\n",
    "popGrowth = pdSeriesToFRED(data=rateData['1-year population growth'],dates=rateData['date'].tolist(),title='One-year population growth',freq='Annual')\n",
    "\n",
    "\n",
    "# 7.4 actual inflation, expected inflation\n",
    "fig=plt.figure(figsize=(10, 6))\n",
    "ax=fig.add_subplot(1,1,1)\n",
    "realRateExAnte.recessions()\n",
    "ax.plot_date(actualInflation.datenums,actualInflation.data,'b-',lw=3)\n",
    "ax.plot_date(expectedInflation.datenums,expectedInflation.data,'r--',lw=3)\n",
    "ax.fill_between(actualInflation.datenums,actualInflation.data, expectedInflation.data, where = expectedInflation.data<actualInflation.data,alpha=0.25,facecolor='green', interpolate=True)\n",
    "ax.fill_between(actualInflation.datenums,actualInflation.data, expectedInflation.data, where = expectedInflation.data>actualInflation.data,alpha=0.25,facecolor='red', interpolate=True)\n",
    "# ax.set_title('Actual and Expected Inflation')\n",
    "ax.set_ylabel('%')\n",
    "ax.xaxis.set_major_locator(years5)\n",
    "ax.legend(['actual inflation','expected inflation'],bbox_to_anchor=(0., 1.02, 1., .102), loc=3,\n",
    "       ncol=3, mode=\"expand\", borderaxespad=0.,fontsize=15)\n",
    "plt.grid()\n",
    "fig.autofmt_xdate()\n",
    "plt.savefig('fig_US_Inflation_Forecast_site.png',bbox_inches='tight')"
   ]
  },
  {
   "cell_type": "code",
   "execution_count": null,
   "metadata": {
    "collapsed": false
   },
   "outputs": [],
   "source": [
    "#8. Export notebook to python script\n",
    "progName = 'realRateData'\n",
    "runProcs.exportNb(progName)\n",
    "# runProcs.handout('Slides_'+progName)\n",
    "# runProcs.tex(['Slides_'+progName,'Handout_'+progName])"
   ]
  }
 ],
 "metadata": {
  "kernelspec": {
   "display_name": "Python 3",
   "language": "python",
   "name": "python3"
  },
  "language_info": {
   "codemirror_mode": {
    "name": "ipython",
    "version": 3
   },
   "file_extension": ".py",
   "mimetype": "text/x-python",
   "name": "python",
   "nbconvert_exporter": "python",
   "pygments_lexer": "ipython3",
   "version": "3.4.3"
  }
 },
 "nbformat": 4,
 "nbformat_minor": 0
}
