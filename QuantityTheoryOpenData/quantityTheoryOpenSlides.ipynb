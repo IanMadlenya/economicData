{
 "metadata": {
  "name": "",
  "signature": "sha256:972eed21f0a0cbde4befe54b11641b884803da075f2a74a407f19b0d24f6920c"
 },
 "nbformat": 3,
 "nbformat_minor": 0,
 "worksheets": [
  {
   "cells": [
    {
     "cell_type": "code",
     "collapsed": false,
     "input": [
      "from __future__ import division\n",
      "%matplotlib inline\n",
      "import numpy as np\n",
      "import matplotlib.pyplot as plt\n",
      "import matplotlib.dates as dts\n",
      "import pandas as pd\n",
      "import wbdata\n",
      "import runProcs\n",
      "from scipy import stats\n",
      "import qtyTheoryFunc as qt\n",
      "\n",
      "# if wbdata fails to load run in the shell: rm -r ~/.cache/wbdata"
     ],
     "language": "python",
     "metadata": {},
     "outputs": [],
     "prompt_number": 1
    },
    {
     "cell_type": "code",
     "collapsed": false,
     "input": [
      "# 0. Preliminaries\n",
      "\n",
      "# 0.1 general plot settings\n",
      "\n",
      "font = {'weight' : 'bold',\n",
      "        'size'   : 15}\n",
      "axes={'labelweight' : 'bold'}\n",
      "plt.rc('font', **font)\n",
      "plt.rc('axes', **axes)\n",
      "plt.rcParams['xtick.major.pad']='8'\n",
      "plt.rcParams['ytick.major.pad']='8'"
     ],
     "language": "python",
     "metadata": {},
     "outputs": [],
     "prompt_number": 2
    },
    {
     "cell_type": "code",
     "collapsed": false,
     "input": [
      "# 1. Get the World Bank ISO codes\n",
      "isoCodes = pd.DataFrame(wbdata.search_countries(\"\",display=False))\n",
      "isoCodes = isoCodes[['id','name']]\n",
      "isoCodes = isoCodes.set_index('name')"
     ],
     "language": "python",
     "metadata": {},
     "outputs": [],
     "prompt_number": 3
    },
    {
     "cell_type": "code",
     "collapsed": false,
     "input": [
      "# 2. Indices for data series and labels for data frame\n",
      "\n",
      "indicators = {'PA.NUS.FCRF':'exchange rate growth',\n",
      "              'FP.CPI.TOTL': 'inflation rate',\n",
      "              'FR.INR.LEND': 'interest rate',\n",
      "              'FM.LBL.MONY.CN': 'money growth', \n",
      "              'NY.GDP.MKTP.KD': 'real gdp growth'\n",
      "              }"
     ],
     "language": "python",
     "metadata": {},
     "outputs": [],
     "prompt_number": 4
    },
    {
     "cell_type": "code",
     "collapsed": false,
     "input": [
      "# 3. Create the data frames with raw money, price level, and real gdp data from WB\n",
      "\n",
      "# 3.1 country groups\n",
      "countries =  [i['id'] for i in wbdata.get_country(incomelevel=['LIC','MIC','HIC'],display=False)]\n",
      "countriesH = [i['id'] for i in wbdata.get_country(incomelevel=['HIC'],display=False)]\n",
      "countriesM = [i['id'] for i in wbdata.get_country(incomelevel=['MIC'],display=False)]\n",
      "countriesL = [i['id'] for i in wbdata.get_country(incomelevel=['LIC'],display=False)]\n",
      "\n",
      "# 3.2 data frames\n",
      "df   = wbdata.get_dataframe(indicators, country=countries,convert_date=True)\n",
      "hicDf = wbdata.get_dataframe(indicators, country=countriesH,convert_date=True)\n",
      "micDf = wbdata.get_dataframe(indicators, country=countriesM,convert_date=True)\n",
      "licDf = wbdata.get_dataframe(indicators, country=countriesL,convert_date=True)"
     ],
     "language": "python",
     "metadata": {},
     "outputs": [],
     "prompt_number": 5
    },
    {
     "cell_type": "code",
     "collapsed": false,
     "input": [
      "# 4. Create data sets of money growth, inflation, and real gdp growth\n",
      "qtyTheoryData, include, dropped = qt.create(dataFrame=df,indicators=indicators,isoCodes=isoCodes,levels=['interest rate'],csvFilename='qtyTheoryOpenData',decimals=5)\n",
      "qtyTheoryDataH, includeH, droppedH = qt.create(dataFrame=hicDf,indicators=indicators,isoCodes=isoCodes,levels=['interest rate'],csvFilename='qtyTheoryOpenDataH',decimals=5)\n",
      "qtyTheoryDataM, includeM, droppedM = qt.create(dataFrame=micDf,indicators=indicators,isoCodes=isoCodes,levels=['interest rate'],csvFilename='qtyTheoryOpenDataM',decimals=5)\n",
      "qtyTheoryDataL, includeL, droppedL = qt.create(dataFrame=licDf,indicators=indicators,isoCodes=isoCodes,levels=['interest rate'],csvFilename='qtyTheoryOpenDataL',decimals=5)"
     ],
     "language": "python",
     "metadata": {},
     "outputs": [
      {
       "output_type": "stream",
       "stream": "stdout",
       "text": [
        "At least one series missing for American Samoa\n",
        "At least one series missing for Andorra\n",
        "At least one series missing for Argentina\n",
        "At least one series missing for Bermuda"
       ]
      },
      {
       "output_type": "stream",
       "stream": "stdout",
       "text": [
        "\n",
        "At least one series missing for Cambodia"
       ]
      },
      {
       "output_type": "stream",
       "stream": "stdout",
       "text": [
        "\n",
        "At least one series missing for Cayman Islands\n",
        "At least one series missing for Channel Islands\n",
        "At least one series missing for Cuba"
       ]
      },
      {
       "output_type": "stream",
       "stream": "stdout",
       "text": [
        "\n",
        "At least one series missing for Curacao\n",
        "At least one series missing for Eritrea"
       ]
      },
      {
       "output_type": "stream",
       "stream": "stdout",
       "text": [
        "\n",
        "At least one series missing for Faeroe Islands\n",
        "At least one series missing for French Polynesia\n",
        "At least one series missing for Greenland"
       ]
      },
      {
       "output_type": "stream",
       "stream": "stdout",
       "text": [
        "\n",
        "At least one series missing for Guam\n",
        "At least one series missing for Isle of Man"
       ]
      },
      {
       "output_type": "stream",
       "stream": "stdout",
       "text": [
        "\n",
        "At least one series missing for Kazakhstan\n",
        "At least one series missing for Kiribati\n",
        "At least one series missing for Korea, Dem. Rep.\n",
        "At least one series missing for Kosovo"
       ]
      },
      {
       "output_type": "stream",
       "stream": "stdout",
       "text": [
        "\n",
        "At least one series missing for Liechtenstein"
       ]
      },
      {
       "output_type": "stream",
       "stream": "stdout",
       "text": [
        "\n",
        "At least one series missing for Marshall Islands"
       ]
      },
      {
       "output_type": "stream",
       "stream": "stdout",
       "text": [
        "\n",
        "At least one series missing for Micronesia, Fed. Sts.\n",
        "At least one series missing for Monaco\n",
        "At least one series missing for Myanmar"
       ]
      },
      {
       "output_type": "stream",
       "stream": "stdout",
       "text": [
        "\n",
        "At least one series missing for New Caledonia\n",
        "At least one series missing for Northern Mariana Islands"
       ]
      },
      {
       "output_type": "stream",
       "stream": "stdout",
       "text": [
        "\n",
        "At least one series missing for Palau\n",
        "At least one series missing for Puerto Rico"
       ]
      },
      {
       "output_type": "stream",
       "stream": "stdout",
       "text": [
        "\n",
        "At least one series missing for San Marino\n",
        "At least one series missing for Saudi Arabia\n",
        "At least one series missing for Sint Maarten (Dutch part)"
       ]
      },
      {
       "output_type": "stream",
       "stream": "stdout",
       "text": [
        "\n",
        "At least one series missing for Somalia\n",
        "At least one series missing for South Sudan\n",
        "At least one series missing for St. Martin (French part)"
       ]
      },
      {
       "output_type": "stream",
       "stream": "stdout",
       "text": [
        "\n",
        "At least one series missing for Sudan\n",
        "At least one series missing for Turkey"
       ]
      },
      {
       "output_type": "stream",
       "stream": "stdout",
       "text": [
        "\n",
        "At least one series missing for Turkmenistan\n",
        "At least one series missing for Turks and Caicos Islands\n",
        "At least one series missing for Tuvalu\n",
        "At least one series missing for United Kingdom\n",
        "At least one series missing for Uzbekistan\n",
        "At least one series missing for Virgin Islands (U.S.)"
       ]
      },
      {
       "output_type": "stream",
       "stream": "stdout",
       "text": [
        "\n",
        "At least one series missing for West Bank and Gaza\n",
        "At least one series missing for Andorra"
       ]
      },
      {
       "output_type": "stream",
       "stream": "stdout",
       "text": [
        "\n",
        "At least one series missing for Bermuda"
       ]
      },
      {
       "output_type": "stream",
       "stream": "stdout",
       "text": [
        "\n",
        "At least one series missing for Cayman Islands\n",
        "At least one series missing for Channel Islands\n",
        "At least one series missing for Curacao\n",
        "At least one series missing for Faeroe Islands"
       ]
      },
      {
       "output_type": "stream",
       "stream": "stdout",
       "text": [
        "\n",
        "At least one series missing for French Polynesia\n",
        "At least one series missing for Greenland\n",
        "At least one series missing for Guam\n",
        "At least one series missing for Isle of Man"
       ]
      },
      {
       "output_type": "stream",
       "stream": "stdout",
       "text": [
        "\n",
        "At least one series missing for Liechtenstein"
       ]
      },
      {
       "output_type": "stream",
       "stream": "stdout",
       "text": [
        "\n",
        "At least one series missing for Monaco\n",
        "At least one series missing for New Caledonia"
       ]
      },
      {
       "output_type": "stream",
       "stream": "stdout",
       "text": [
        "\n",
        "At least one series missing for Northern Mariana Islands\n",
        "At least one series missing for Puerto Rico\n",
        "At least one series missing for San Marino"
       ]
      },
      {
       "output_type": "stream",
       "stream": "stdout",
       "text": [
        "\n",
        "At least one series missing for Saudi Arabia\n",
        "At least one series missing for Sint Maarten (Dutch part)\n",
        "At least one series missing for St. Martin (French part)\n",
        "At least one series missing for Turks and Caicos Islands"
       ]
      },
      {
       "output_type": "stream",
       "stream": "stdout",
       "text": [
        "\n",
        "At least one series missing for United Kingdom\n",
        "At least one series missing for Virgin Islands (U.S.)\n",
        "At least one series missing for American Samoa"
       ]
      },
      {
       "output_type": "stream",
       "stream": "stdout",
       "text": [
        "\n",
        "At least one series missing for Argentina\n",
        "At least one series missing for Cuba"
       ]
      },
      {
       "output_type": "stream",
       "stream": "stdout",
       "text": [
        "\n",
        "At least one series missing for Kazakhstan"
       ]
      },
      {
       "output_type": "stream",
       "stream": "stdout",
       "text": [
        "\n",
        "At least one series missing for Kiribati\n",
        "At least one series missing for Kosovo\n",
        "At least one series missing for Marshall Islands\n",
        "At least one series missing for Micronesia, Fed. Sts."
       ]
      },
      {
       "output_type": "stream",
       "stream": "stdout",
       "text": [
        "\n",
        "At least one series missing for Palau\n",
        "At least one series missing for South Sudan"
       ]
      },
      {
       "output_type": "stream",
       "stream": "stdout",
       "text": [
        "\n",
        "At least one series missing for Sudan\n",
        "At least one series missing for Turkey"
       ]
      },
      {
       "output_type": "stream",
       "stream": "stdout",
       "text": [
        "\n",
        "At least one series missing for Turkmenistan\n",
        "At least one series missing for Tuvalu\n",
        "At least one series missing for Uzbekistan\n",
        "At least one series missing for West Bank and Gaza\n",
        "At least one series missing for Cambodia"
       ]
      },
      {
       "output_type": "stream",
       "stream": "stdout",
       "text": [
        "\n",
        "At least one series missing for Eritrea\n",
        "At least one series missing for Korea, Dem. Rep."
       ]
      },
      {
       "output_type": "stream",
       "stream": "stdout",
       "text": [
        "\n",
        "At least one series missing for Myanmar\n",
        "At least one series missing for Somalia"
       ]
      },
      {
       "output_type": "stream",
       "stream": "stdout",
       "text": [
        "\n"
       ]
      }
     ],
     "prompt_number": 6
    },
    {
     "cell_type": "code",
     "collapsed": false,
     "input": [
      "qtyTheoryData['interest rate'] = qtyTheoryData['interest rate']/100\n",
      "qtyTheoryDataL['interest rate'] = qtyTheoryDataL['interest rate']/100 \n",
      "qtyTheoryDataM['interest rate'] = qtyTheoryDataM['interest rate']/100\n",
      "qtyTheoryDataH['interest rate'] = qtyTheoryDataH['interest rate']/100"
     ],
     "language": "python",
     "metadata": {},
     "outputs": [],
     "prompt_number": 7
    },
    {
     "cell_type": "code",
     "collapsed": false,
     "input": [
      "# 5. Verify output for US\n",
      "print 'Number of countries:',len(include),'\\n'\n",
      "print qtyTheoryData.loc['United States']\n",
      "# print qtyTheoryDataH.loc['Germany']"
     ],
     "language": "python",
     "metadata": {},
     "outputs": [
      {
       "output_type": "stream",
       "stream": "stdout",
       "text": [
        "Number of countries: 138 \n",
        "\n",
        "iso code                        USA\n",
        "observations                     54\n",
        "exchange rate growth              0\n",
        "inflation rate               0.0397\n",
        "interest rate           0.000749813\n",
        "money growth                0.05672\n",
        "real gdp growth             0.03108\n",
        "Name: United States, dtype: object\n"
       ]
      }
     ],
     "prompt_number": 8
    },
    {
     "cell_type": "code",
     "collapsed": false,
     "input": [
      "# 6. Plots.\n",
      "\n",
      "# 6.1 Money growth and currency depreciation\n",
      "\n",
      "xmin = -0.2\n",
      "xmax = 1.4\n",
      "ymin = -.2\n",
      "ymax = 1.4\n",
      "\n",
      "x45 = np.arange(xmin,xmax,0.001)\n",
      "y45 = x45 #- np.mean(qtyTheoryData['money growth'])\n",
      "\n",
      "fig = plt.figure()\n",
      "\n",
      "ax1 = fig.add_subplot(1, 1, 1)\n",
      "ax1.plot(x45,y45)\n",
      "ax1.plot(qtyTheoryDataH['money growth'] - qtyTheoryDataH['money growth']['United States'],qtyTheoryDataH['exchange rate growth'],'bo')\n",
      "ax1.plot(qtyTheoryDataM['money growth'] - qtyTheoryDataH['money growth']['United States'],qtyTheoryDataM['exchange rate growth'],'gs')\n",
      "ax1.plot(qtyTheoryDataL['money growth'] - qtyTheoryDataH['money growth']['United States'],qtyTheoryDataL['exchange rate growth'],'r^')\n",
      "plt.grid(True)\n",
      "# ax1.set_title('',fontsize=15)\n",
      "ax1.set_xlabel('money growth differential')\n",
      "ax1.set_ylabel('depreciation')\n",
      "plt.legend(['$45^\\circ$'],loc='lower right',fontsize='15')\n",
      "plt.axis([xmin,xmax,ymin,ymax])\n",
      "\n",
      "plt.tight_layout()\n",
      "plt.savefig('fig_depreciationMoneyGrowth.png',bbox_inches='tight',dpi=120)"
     ],
     "language": "python",
     "metadata": {},
     "outputs": [
      {
       "metadata": {},
       "output_type": "display_data",
       "png": "[encoded data removed]",
       "text": [
        "<matplotlib.figure.Figure at 0x10af877d0>"
       ]
      }
     ],
     "prompt_number": 9
    },
    {
     "cell_type": "code",
     "collapsed": false,
     "input": [
      "# 6.2 Interest differentials versus inflation differentials\n",
      "\n",
      "xmin = -0.2\n",
      "xmax = 1.4\n",
      "ymin = -.2\n",
      "ymax = 1.4\n",
      "\n",
      "x45 = np.arange(xmin,xmax,0.001)\n",
      "y45 = x45 #- np.mean(qtyTheoryData['money growth'])\n",
      "\n",
      "fig = plt.figure()\n",
      "\n",
      "ax1 = fig.add_subplot(1, 1, 1)\n",
      "ax1.plot(x45,y45)\n",
      "ax1.plot(qtyTheoryDataH['inflation rate'] - qtyTheoryData['inflation rate']['United States'],100*(qtyTheoryDataH['interest rate'] - qtyTheoryData['interest rate']['United States']),'bo')\n",
      "ax1.plot(qtyTheoryDataM['inflation rate'] - qtyTheoryData['inflation rate']['United States'],100*(qtyTheoryDataM['interest rate'] - qtyTheoryData['interest rate']['United States']),'gs')\n",
      "ax1.plot(qtyTheoryDataL['inflation rate'] - qtyTheoryData['inflation rate']['United States'],100*(qtyTheoryDataL['interest rate'] - qtyTheoryData['interest rate']['United States']),'r^')\n",
      "plt.grid(True)\n",
      "# ax1.set_title('',fontsize=15)\n",
      "ax1.set_xlabel('inflation differential')\n",
      "ax1.set_ylabel('interest differential')\n",
      "plt.legend(['$45^\\circ$'],loc='lower right',fontsize='15')\n",
      "plt.axis([xmin,xmax,ymin,ymax])\n",
      "\n",
      "plt.tight_layout()\n",
      "plt.savefig('fig_interestInflation.png',bbox_inches='tight',dpi=120)"
     ],
     "language": "python",
     "metadata": {},
     "outputs": [
      {
       "metadata": {},
       "output_type": "display_data",
       "png": "[encoded data removed]",
       "text": [
        "<matplotlib.figure.Figure at 0x10bb74810>"
       ]
      }
     ],
     "prompt_number": 10
    },
    {
     "cell_type": "code",
     "collapsed": false,
     "input": [
      "# 6.3 Inflation and currency depreciation\n",
      "\n",
      "xmin = -0.2\n",
      "xmax = 1.4\n",
      "ymin = -.2\n",
      "ymax = 1.4\n",
      "\n",
      "x45 = np.arange(xmin,xmax,0.001)\n",
      "y45 = x45 #- np.mean(qtyTheoryData['money growth'])\n",
      "\n",
      "fig = plt.figure()\n",
      "\n",
      "ax1 = fig.add_subplot(1, 1, 1)\n",
      "ax1.plot(x45,y45)\n",
      "ax1.plot(qtyTheoryDataH['inflation rate'] - qtyTheoryDataH['inflation rate']['United States'],qtyTheoryDataH['exchange rate growth'],'bo')\n",
      "ax1.plot(qtyTheoryDataM['inflation rate'] - qtyTheoryDataH['inflation rate']['United States'],qtyTheoryDataM['exchange rate growth'],'gs')\n",
      "ax1.plot(qtyTheoryDataL['inflation rate'] - qtyTheoryDataH['inflation rate']['United States'],qtyTheoryDataL['exchange rate growth'],'r^')\n",
      "plt.grid(True)\n",
      "# ax1.set_title('',fontsize=15)\n",
      "ax1.set_xlabel('inflation differential')\n",
      "ax1.set_ylabel('depreciation')\n",
      "plt.legend(['$45^\\circ$'],loc='lower right',fontsize='15')\n",
      "plt.axis([xmin,xmax,ymin,ymax])\n",
      "\n",
      "plt.tight_layout()\n",
      "plt.savefig('fig_depreciationinflation.png',bbox_inches='tight',dpi=120)"
     ],
     "language": "python",
     "metadata": {},
     "outputs": [
      {
       "metadata": {},
       "output_type": "display_data",
       "png": "[encoded data removed]",
       "text": [
        "<matplotlib.figure.Figure at 0x10c2fc210>"
       ]
      }
     ],
     "prompt_number": 11
    },
    {
     "cell_type": "code",
     "collapsed": false,
     "input": [
      "# 11. Export notebook to python script\n",
      "runProcs.exportNb('quantityTheoryOpenSlides')"
     ],
     "language": "python",
     "metadata": {},
     "outputs": [],
     "prompt_number": 3
    }
   ],
   "metadata": {}
  }
 ]
}