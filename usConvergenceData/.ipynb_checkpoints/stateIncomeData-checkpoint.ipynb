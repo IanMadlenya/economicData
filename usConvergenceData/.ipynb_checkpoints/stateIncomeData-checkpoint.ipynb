{
 "cells": [
  {
   "cell_type": "code",
   "execution_count": 7,
   "metadata": {
    "collapsed": false
   },
   "outputs": [],
   "source": [
    "from __future__ import division,unicode_literals\n",
    "%matplotlib inline\n",
    "import numpy as np\n",
    "import pandas as pd\n",
    "import json\n",
    "import runProcs\n",
    "from urllib.request import urlopen"
   ]
  },
  {
   "cell_type": "code",
   "execution_count": 8,
   "metadata": {
    "collapsed": false
   },
   "outputs": [],
   "source": [
    "# 0. State abbreviations\n",
    "\n",
    "# 0.1 dictionary:\n",
    "stateAbbr = {\n",
    "u'Alabama':u'AL',\n",
    "u'Alaska':u'AK',\n",
    "u'Arizona':u'AZ',\n",
    "u'Arkansas':u'AR',\n",
    "u'California':u'CA',\n",
    "u'Colorado':u'CO',\n",
    "u'Connecticut':u'CT',\n",
    "u'Delaware':u'DE',\n",
    "u'District of Columbia':u'DC',\n",
    "u'Florida':u'FL',\n",
    "u'Georgia':u'GA',\n",
    "u'Hawaii':u'HI',\n",
    "u'Idaho':u'ID',\n",
    "u'Illinois':u'IL',\n",
    "u'Indiana':u'IN',\n",
    "u'Iowa':u'IA',\n",
    "u'Kansas':u'KS',\n",
    "u'Kentucky':u'KY',\n",
    "u'Louisiana':u'LA',\n",
    "u'Maine':u'ME',\n",
    "u'Maryland':u'MD',\n",
    "u'Massachusetts':u'MA',\n",
    "u'Michigan':u'MI',\n",
    "u'Minnesota':u'MN',\n",
    "u'Mississippi':u'MS',\n",
    "u'Missouri':u'MO',\n",
    "u'Montana':u'MT',\n",
    "u'Nebraska':u'NE',\n",
    "u'Nevada':u'NV',\n",
    "u'New Hampshire':u'NH',\n",
    "u'New Jersey':u'NJ',\n",
    "u'New Mexico':u'NM',\n",
    "u'New York':u'NY',\n",
    "u'North Carolina':u'NC',\n",
    "u'North Dakota':u'ND',\n",
    "u'Ohio':u'OH',\n",
    "u'Oklahoma':u'OK',\n",
    "u'Oregon':u'OR',\n",
    "u'Pennsylvania':u'PA',\n",
    "u'Rhode Island':u'RI',\n",
    "u'South Carolina':u'SC',\n",
    "u'South Dakota':u'SD',\n",
    "u'Tennessee':u'TN',\n",
    "u'Texas':u'TX',\n",
    "u'Utah':u'UT',\n",
    "u'Vermont':u'VT',\n",
    "u'Virginia':u'VA',\n",
    "u'Washington':u'WA',\n",
    "u'West Virginia':u'WV',\n",
    "u'Wisconsin':u'WI',\n",
    "u'Wyoming':u'WY'\n",
    "}\n",
    "\n",
    "# 0.2 List of states in the US\n",
    "stateList = [s for s in stateAbbr]"
   ]
  },
  {
   "cell_type": "code",
   "execution_count": 13,
   "metadata": {
    "collapsed": false
   },
   "outputs": [],
   "source": [
    "# 1. Construct series for price deflator\n",
    "\n",
    "# 1.1 Obtain data from BEA\n",
    "gdpDeflator = urlopen('http://bea.gov/api/data/?UserID=3EDEAA66-4B2B-4926-83C9-FD2089747A5B&method=GetData&datasetname=NIPA&TableID=13&Frequency=A&Year=X&ResultFormat=JSON&')\n",
    "\n",
    "\n",
    "result = gdpDeflator.readall().decode('utf-8')\n",
    "# obj = json.loads(str_response)\n",
    "# result = gdpDeflator.read()\n",
    "jsonResponse = json.loads(result)"
   ]
  },
  {
   "cell_type": "code",
   "execution_count": 17,
   "metadata": {
    "collapsed": false
   },
   "outputs": [
    {
     "name": "stdout",
     "output_type": "stream",
     "text": [
      "      price level\n",
      "1929      0.09896\n",
      "1930      0.09535\n",
      "1931      0.08555\n",
      "1932      0.07553\n",
      "1933      0.07345\n",
      "1934      0.07749\n",
      "2013      1.06929\n",
      "2014      1.08686\n",
      "2007      0.97337\n",
      "2008      0.99246\n",
      "2009      1.00000\n",
      "2010      1.01221\n",
      "2011      1.03311\n",
      "2012      1.05214\n",
      "2001      0.83754\n",
      "2002      0.85039\n",
      "2003      0.86735\n",
      "2004      0.89120\n",
      "2005      0.91988\n",
      "2006      0.94814\n",
      "1995      0.75324\n",
      "1996      0.76699\n",
      "1997      0.78012\n",
      "1998      0.78859\n",
      "1999      0.80065\n",
      "2000      0.81887\n",
      "1989      0.64392\n",
      "1990      0.66773\n",
      "1991      0.68996\n",
      "1992      0.70569\n",
      "...           ...\n",
      "1959      0.17237\n",
      "1960      0.17476\n",
      "1961      0.17669\n",
      "1962      0.17886\n",
      "1963      0.18088\n",
      "1964      0.18366\n",
      "1953      0.15157\n",
      "1954      0.15298\n",
      "1955      0.15559\n",
      "1956      0.16091\n",
      "1957      0.16625\n",
      "1958      0.17001\n",
      "1947      0.12887\n",
      "1948      0.13605\n",
      "1949      0.13581\n",
      "1950      0.13745\n",
      "1951      0.14716\n",
      "1952      0.14972\n",
      "1941      0.08680\n",
      "1942      0.09369\n",
      "1943      0.09795\n",
      "1944      0.10027\n",
      "1945      0.10288\n",
      "1946      0.11618\n",
      "1935      0.07908\n",
      "1936      0.08001\n",
      "1937      0.08347\n",
      "1938      0.08109\n",
      "1939      0.08033\n",
      "1940      0.08131\n",
      "\n",
      "[86 rows x 1 columns]\n"
     ]
    }
   ],
   "source": [
    "# 1.2 Construct the data frame for the deflator series\n",
    "values = []\n",
    "years = []\n",
    "for element in jsonResponse['BEAAPI']['Results']['Data']:\n",
    "#     if element['LineDescription'] == 'Personal consumption expenditures':\n",
    "    if element['LineDescription'] == 'Gross domestic product':\n",
    "        years.append(element['TimePeriod'])\n",
    "        values.append(float(element['DataValue'])/100)\n",
    "\n",
    "values = np.array([values]).T\n",
    "dataP = pd.DataFrame(values,index = years,columns = ['price level'])\n",
    "\n",
    "# 1.3 Display the data\n",
    "print(dataP)"
   ]
  },
  {
   "cell_type": "code",
   "execution_count": 18,
   "metadata": {
    "collapsed": false
   },
   "outputs": [
    {
     "ename": "TypeError",
     "evalue": "the JSON object must be str, not 'bytes'",
     "output_type": "error",
     "traceback": [
      "\u001b[0;31m---------------------------------------------------------------------------\u001b[0m",
      "\u001b[0;31mTypeError\u001b[0m                                 Traceback (most recent call last)",
      "\u001b[0;32m<ipython-input-18-bb16682d43cd>\u001b[0m in \u001b[0;36m<module>\u001b[0;34m()\u001b[0m\n\u001b[1;32m      4\u001b[0m \u001b[0mstateYpc\u001b[0m \u001b[0;34m=\u001b[0m \u001b[0murlopen\u001b[0m\u001b[0;34m(\u001b[0m\u001b[0;34m'http://bea.gov/api/data/?UserID=3EDEAA66-4B2B-4926-83C9-FD2089747A5B&method=GetData&datasetname=RegionalData&KeyCode=PCPI_SI&Year=ALL&GeoFips=STATE&ResultFormat=JSON&'\u001b[0m\u001b[0;34m)\u001b[0m\u001b[0;34m\u001b[0m\u001b[0m\n\u001b[1;32m      5\u001b[0m \u001b[0mresult\u001b[0m \u001b[0;34m=\u001b[0m \u001b[0mstateYpc\u001b[0m\u001b[0;34m.\u001b[0m\u001b[0mread\u001b[0m\u001b[0;34m(\u001b[0m\u001b[0;34m)\u001b[0m\u001b[0;34m\u001b[0m\u001b[0m\n\u001b[0;32m----> 6\u001b[0;31m \u001b[0mjsonResponse\u001b[0m \u001b[0;34m=\u001b[0m \u001b[0mjson\u001b[0m\u001b[0;34m.\u001b[0m\u001b[0mloads\u001b[0m\u001b[0;34m(\u001b[0m\u001b[0mresult\u001b[0m\u001b[0;34m)\u001b[0m\u001b[0;34m\u001b[0m\u001b[0m\n\u001b[0m\u001b[1;32m      7\u001b[0m \u001b[0;31m# jsonResponse['BEAAPI']['Results']['Data'][0]['GeoName']\u001b[0m\u001b[0;34m\u001b[0m\u001b[0;34m\u001b[0m\u001b[0m\n",
      "\u001b[0;32m/Users/brianjenkins/anaconda/lib/python3.4/json/__init__.py\u001b[0m in \u001b[0;36mloads\u001b[0;34m(s, encoding, cls, object_hook, parse_float, parse_int, parse_constant, object_pairs_hook, **kw)\u001b[0m\n\u001b[1;32m    310\u001b[0m     \u001b[0;32mif\u001b[0m \u001b[0;32mnot\u001b[0m \u001b[0misinstance\u001b[0m\u001b[0;34m(\u001b[0m\u001b[0ms\u001b[0m\u001b[0;34m,\u001b[0m \u001b[0mstr\u001b[0m\u001b[0;34m)\u001b[0m\u001b[0;34m:\u001b[0m\u001b[0;34m\u001b[0m\u001b[0m\n\u001b[1;32m    311\u001b[0m         raise TypeError('the JSON object must be str, not {!r}'.format(\n\u001b[0;32m--> 312\u001b[0;31m                             s.__class__.__name__))\n\u001b[0m\u001b[1;32m    313\u001b[0m     \u001b[0;32mif\u001b[0m \u001b[0ms\u001b[0m\u001b[0;34m.\u001b[0m\u001b[0mstartswith\u001b[0m\u001b[0;34m(\u001b[0m\u001b[0;34mu'\\ufeff'\u001b[0m\u001b[0;34m)\u001b[0m\u001b[0;34m:\u001b[0m\u001b[0;34m\u001b[0m\u001b[0m\n\u001b[1;32m    314\u001b[0m         \u001b[0;32mraise\u001b[0m \u001b[0mValueError\u001b[0m\u001b[0;34m(\u001b[0m\u001b[0;34m\"Unexpected UTF-8 BOM (decode using utf-8-sig)\"\u001b[0m\u001b[0;34m)\u001b[0m\u001b[0;34m\u001b[0m\u001b[0m\n",
      "\u001b[0;31mTypeError\u001b[0m: the JSON object must be str, not 'bytes'"
     ]
    }
   ],
   "source": [
    "# 2. Construct series for per capita income by state, region, and the entire us\n",
    "\n",
    "# 2.1 Obtain data from BEA\n",
    "stateYpc = urlopen('http://bea.gov/api/data/?UserID=3EDEAA66-4B2B-4926-83C9-FD2089747A5B&method=GetData&datasetname=RegionalData&KeyCode=PCPI_SI&Year=ALL&GeoFips=STATE&ResultFormat=JSON&')\n",
    "result = stateYpc.read()\n",
    "jsonResponse = json.loads(result)\n",
    "# jsonResponse['BEAAPI']['Results']['Data'][0]['GeoName']"
   ]
  },
  {
   "cell_type": "code",
   "execution_count": 21,
   "metadata": {
    "collapsed": false
   },
   "outputs": [
    {
     "ename": "KeyError",
     "evalue": "'GeoName'",
     "output_type": "error",
     "traceback": [
      "\u001b[0;31m---------------------------------------------------------------------------\u001b[0m",
      "\u001b[0;31mKeyError\u001b[0m                                  Traceback (most recent call last)",
      "\u001b[0;32m<ipython-input-21-79259339fca8>\u001b[0m in \u001b[0;36m<module>\u001b[0;34m()\u001b[0m\n\u001b[1;32m      6\u001b[0m \u001b[0myears\u001b[0m \u001b[0;34m=\u001b[0m \u001b[0;34m[\u001b[0m\u001b[0;34m]\u001b[0m\u001b[0;34m\u001b[0m\u001b[0m\n\u001b[1;32m      7\u001b[0m \u001b[0;32mfor\u001b[0m \u001b[0melement\u001b[0m \u001b[0;32min\u001b[0m \u001b[0mjsonResponse\u001b[0m\u001b[0;34m[\u001b[0m\u001b[0;34m'BEAAPI'\u001b[0m\u001b[0;34m]\u001b[0m\u001b[0;34m[\u001b[0m\u001b[0;34m'Results'\u001b[0m\u001b[0;34m]\u001b[0m\u001b[0;34m[\u001b[0m\u001b[0;34m'Data'\u001b[0m\u001b[0;34m]\u001b[0m\u001b[0;34m:\u001b[0m\u001b[0;34m\u001b[0m\u001b[0m\n\u001b[0;32m----> 8\u001b[0;31m     \u001b[0;32mif\u001b[0m \u001b[0melement\u001b[0m\u001b[0;34m[\u001b[0m\u001b[0;34m'GeoName'\u001b[0m\u001b[0;34m]\u001b[0m \u001b[0;32mnot\u001b[0m \u001b[0;32min\u001b[0m \u001b[0mregions\u001b[0m\u001b[0;34m:\u001b[0m\u001b[0;34m\u001b[0m\u001b[0m\n\u001b[0m\u001b[1;32m      9\u001b[0m         \u001b[0mregions\u001b[0m\u001b[0;34m.\u001b[0m\u001b[0mappend\u001b[0m\u001b[0;34m(\u001b[0m\u001b[0melement\u001b[0m\u001b[0;34m[\u001b[0m\u001b[0;34m'GeoName'\u001b[0m\u001b[0;34m]\u001b[0m\u001b[0;34m)\u001b[0m\u001b[0;34m\u001b[0m\u001b[0m\n\u001b[1;32m     10\u001b[0m     \u001b[0;32mif\u001b[0m \u001b[0melement\u001b[0m\u001b[0;34m[\u001b[0m\u001b[0;34m'TimePeriod'\u001b[0m\u001b[0;34m]\u001b[0m \u001b[0;32mnot\u001b[0m \u001b[0;32min\u001b[0m \u001b[0myears\u001b[0m\u001b[0;34m:\u001b[0m\u001b[0;34m\u001b[0m\u001b[0m\n",
      "\u001b[0;31mKeyError\u001b[0m: 'GeoName'"
     ]
    }
   ],
   "source": [
    "# 2.2 Construct the data frame for the per capita income series\n",
    "\n",
    "\n",
    "# 2.2.1 Initialize the dataframe\n",
    "regions = []\n",
    "years = []\n",
    "for element in jsonResponse['BEAAPI']['Results']['Data']:\n",
    "    if element['GeoName'] not in regions:\n",
    "        regions.append(element['GeoName'])\n",
    "    if element['TimePeriod'] not in years:\n",
    "        years.append(element['TimePeriod'])\n",
    "\n",
    "df = np.zeros([len(years),len(regions)])\n",
    "dataY = pd.DataFrame(df,index = years,columns = regions)\n",
    "# 2.2.2 Populate the dataframe with values\n",
    "for element in jsonResponse['BEAAPI']['Results']['Data']:\n",
    "    try:\n",
    "        dataY[element['GeoName']][element['TimePeriod']] = np.round(float(element[u'DataValue'])/float(dataP.loc[element['TimePeriod']]),2)# real\n",
    "    except:\n",
    "        dataY[element['GeoName']][element['TimePeriod']] = np.nan\n",
    "        \n",
    "# 2.2.3 Replace the state names in the index with abbreviations\n",
    "columns=[]\n",
    "for r in regions:\n",
    "    if r in stateList:\n",
    "        columns.append(stateAbbr[r])\n",
    "    else:\n",
    "        columns.append(r)\n",
    "        \n",
    "dataY.columns=columns\n",
    "\n",
    "# 2.2.4 Display the data\n",
    "dataY"
   ]
  },
  {
   "cell_type": "code",
   "execution_count": 19,
   "metadata": {
    "collapsed": false
   },
   "outputs": [
    {
     "ename": "NameError",
     "evalue": "name 'dataY' is not defined",
     "output_type": "error",
     "traceback": [
      "\u001b[0;31m---------------------------------------------------------------------------\u001b[0m",
      "\u001b[0;31mNameError\u001b[0m                                 Traceback (most recent call last)",
      "\u001b[0;32m<ipython-input-19-951790f54675>\u001b[0m in \u001b[0;36m<module>\u001b[0;34m()\u001b[0m\n\u001b[1;32m      1\u001b[0m \u001b[0;31m# 3. Export data to csv\u001b[0m\u001b[0;34m\u001b[0m\u001b[0;34m\u001b[0m\u001b[0m\n\u001b[0;32m----> 2\u001b[0;31m \u001b[0mseries\u001b[0m \u001b[0;34m=\u001b[0m \u001b[0mdataY\u001b[0m\u001b[0;34m\u001b[0m\u001b[0m\n\u001b[0m\u001b[1;32m      3\u001b[0m \u001b[0mdropCols\u001b[0m \u001b[0;34m=\u001b[0m \u001b[0;34m[\u001b[0m\u001b[0;34mu'AK'\u001b[0m\u001b[0;34m,\u001b[0m \u001b[0;34mu'HI'\u001b[0m\u001b[0;34m,\u001b[0m \u001b[0;34mu'New England'\u001b[0m\u001b[0;34m,\u001b[0m \u001b[0;34mu'Mideast'\u001b[0m\u001b[0;34m,\u001b[0m \u001b[0;34mu'Great Lakes'\u001b[0m\u001b[0;34m,\u001b[0m \u001b[0;34mu'Plains'\u001b[0m\u001b[0;34m,\u001b[0m \u001b[0;34mu'Southeast'\u001b[0m\u001b[0;34m,\u001b[0m \u001b[0;34mu'Southwest'\u001b[0m\u001b[0;34m,\u001b[0m \u001b[0;34mu'Rocky Mountain'\u001b[0m\u001b[0;34m,\u001b[0m \u001b[0;34mu'Far West'\u001b[0m\u001b[0;34m]\u001b[0m\u001b[0;34m\u001b[0m\u001b[0m\n\u001b[1;32m      4\u001b[0m \u001b[0;32mfor\u001b[0m \u001b[0mc\u001b[0m \u001b[0;32min\u001b[0m \u001b[0mdropCols\u001b[0m\u001b[0;34m:\u001b[0m\u001b[0;34m\u001b[0m\u001b[0m\n\u001b[1;32m      5\u001b[0m     \u001b[0mseries\u001b[0m \u001b[0;34m=\u001b[0m \u001b[0mseries\u001b[0m\u001b[0;34m.\u001b[0m\u001b[0mdrop\u001b[0m\u001b[0;34m(\u001b[0m\u001b[0;34m[\u001b[0m\u001b[0mc\u001b[0m\u001b[0;34m]\u001b[0m\u001b[0;34m,\u001b[0m\u001b[0maxis\u001b[0m\u001b[0;34m=\u001b[0m\u001b[0;36m1\u001b[0m\u001b[0;34m)\u001b[0m\u001b[0;34m\u001b[0m\u001b[0m\n",
      "\u001b[0;31mNameError\u001b[0m: name 'dataY' is not defined"
     ]
    }
   ],
   "source": [
    "# 3. Export data to csv\n",
    "series = dataY\n",
    "dropCols = [u'AK', u'HI', u'New England', u'Mideast', u'Great Lakes', u'Plains', u'Southeast', u'Southwest', u'Rocky Mountain', u'Far West']\n",
    "for c in dropCols:\n",
    "    series = series.drop([c],axis=1)\n",
    "\n",
    "series.to_csv('stateIncomeData.csv',na_rep='NaN')"
   ]
  },
  {
   "cell_type": "code",
   "execution_count": 20,
   "metadata": {
    "collapsed": false
   },
   "outputs": [],
   "source": [
    "# 4. Export notebook to .py\n",
    "runProcs.exportNb('stateIncomeData')"
   ]
  },
  {
   "cell_type": "code",
   "execution_count": null,
   "metadata": {
    "collapsed": true
   },
   "outputs": [],
   "source": []
  }
 ],
 "metadata": {
  "kernelspec": {
   "display_name": "Python 3",
   "language": "python",
   "name": "python3"
  },
  "language_info": {
   "codemirror_mode": {
    "name": "ipython",
    "version": 3
   },
   "file_extension": ".py",
   "mimetype": "text/x-python",
   "name": "python",
   "nbconvert_exporter": "python",
   "pygments_lexer": "ipython3",
   "version": "3.4.3"
  }
 },
 "nbformat": 4,
 "nbformat_minor": 0
}
