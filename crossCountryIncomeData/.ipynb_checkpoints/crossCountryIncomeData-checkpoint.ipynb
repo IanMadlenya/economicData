{
 "cells": [
  {
   "cell_type": "code",
   "execution_count": 4,
   "metadata": {
    "collapsed": false
   },
   "outputs": [],
   "source": [
    "from __future__ import division\n",
    "import matplotlib.pyplot as plt\n",
    "import matplotlib.dates as dts\n",
    "import numpy as np\n",
    "import runProcs\n",
    "from scipy.stats import gaussian_kde\n",
    "import pandas as pd\n",
    "%matplotlib inline\n",
    "\n",
    "# This program requires the Penn World Tables data file: pwt81.xlsx\n",
    "# available at https://pwt.sas.upenn.edu/"
   ]
  },
  {
   "cell_type": "code",
   "execution_count": 5,
   "metadata": {
    "collapsed": false
   },
   "outputs": [],
   "source": [
    "# 0. Setup\n",
    "\n",
    "# 0.1 general plot settings\n",
    "\n",
    "font = {'weight' : 'bold',\n",
    "        'size'   : 15}\n",
    "plt.rc('font', **font)\n",
    "plt.rcParams['xtick.major.pad']='8'\n",
    "plt.rcParams['ytick.major.pad']='8'\n",
    "\n",
    "\n",
    "# 0.2 Formatter for inserting commas in y axis labels with magnitudes in the thousands\n",
    "\n",
    "def func(x, pos):  # formatter function takes tick label and tick position\n",
    "   s = '{:0,d}'.format(int(x))\n",
    "   return s\n",
    "\n",
    "y_format = plt.FuncFormatter(func)  # make formatter\n",
    "\n",
    "# 0.3 format the x axis ticksticks\n",
    "years2,years4,years5,years10,years15= dts.YearLocator(2),dts.YearLocator(4),dts.YearLocator(5),dts.YearLocator(10),dts.YearLocator(15)\n",
    "\n",
    "\n",
    "# 0.4 y label locator for vertical axes plotting gdp\n",
    "majorLocator_y   = plt.MultipleLocator(3)\n",
    "majorLocator_shares   = plt.MultipleLocator(0.2)\n",
    "\n",
    "# 0.5 Index locator\n",
    "def findDateIndex(dateStr,fredObj):\n",
    "    for n,d in enumerate(fredObj.dates):\n",
    "        if d == dateStr:\n",
    "            return n"
   ]
  },
  {
   "cell_type": "code",
   "execution_count": 6,
   "metadata": {
    "collapsed": false
   },
   "outputs": [],
   "source": [
    "# 1. Import data\n",
    "pwt = pd.read_excel('pwt81.xlsx',sheetname='Data')"
   ]
  },
  {
   "cell_type": "code",
   "execution_count": 7,
   "metadata": {
    "collapsed": false
   },
   "outputs": [],
   "source": [
    "# 2. lists of countries, codes, and years\n",
    "year0 = 1960\n",
    "\n",
    "countryCodes=[]\n",
    "countries = []\n",
    "years = []\n",
    "for code in pwt['countrycode']:\n",
    "    if code not in countryCodes:\n",
    "        countryCodes.append(code)\n",
    "        \n",
    "for country in pwt['country']:\n",
    "    if country == u\"Côte d'Ivoire\":\n",
    "        country = u\"Cote d'Ivoire\"\n",
    "    if country not in countries:\n",
    "        countries.append(country)\n",
    "        \n",
    "for year in pwt['year']:\n",
    "    if year not in years:\n",
    "        years.append(year)\n",
    "\n",
    "year0= years.index(year0)"
   ]
  },
  {
   "cell_type": "code",
   "execution_count": 8,
   "metadata": {
    "collapsed": false
   },
   "outputs": [
    {
     "ename": "SyntaxError",
     "evalue": "Missing parentheses in call to 'print' (<ipython-input-8-e6516c8f150f>, line 32)",
     "output_type": "error",
     "traceback": [
      "\u001b[0;36m  File \u001b[0;32m\"<ipython-input-8-e6516c8f150f>\"\u001b[0;36m, line \u001b[0;32m32\u001b[0m\n\u001b[0;31m    print count,' countries in the sample.'\u001b[0m\n\u001b[0m              ^\u001b[0m\n\u001b[0;31mSyntaxError\u001b[0m\u001b[0;31m:\u001b[0m Missing parentheses in call to 'print'\n"
     ]
    }
   ],
   "source": [
    "# 3. Create deatasets\n",
    "\n",
    "# 3.1 income and population datasets\n",
    "incomeDict = {}\n",
    "incomePcDict = {}\n",
    "popDict = {}\n",
    "count=0\n",
    "for i,code in enumerate(countryCodes):\n",
    "    income = pwt.loc[pwt['countrycode'] == code]['cgdpe'].values\n",
    "    pop = pwt.loc[pwt['countrycode'] == code]['pop'].values\n",
    "    incomePc = income/pop\n",
    "    if code =='ZWE':\n",
    "        income = income[0:62]\n",
    "        incomePc = incomePc[0:62]\n",
    "        pop = pop[0:62]\n",
    "    if True not in [np.isnan(x) for x in incomePc[year0:]]:\n",
    "        incomeDict[countries[i]+' - '+code] = income[year0:].tolist()\n",
    "        incomePcDict[countries[i]+' - '+code] = incomePc[year0:].tolist()\n",
    "        popDict[countries[i]+' - '+code] = pop[year0:].tolist()\n",
    "        count+=1\n",
    "\n",
    "income = pd.DataFrame(incomeDict,index=years[year0:])\n",
    "incomePc = pd.DataFrame(incomePcDict,index=years[year0:])\n",
    "\n",
    "incomePc = np.round(incomePc,5)\n",
    "incomePcLog = np.round(np.log(incomePc),5)\n",
    "\n",
    "# totalPop = pop.sum(axis=1)\n",
    "# totalIncome = income.sum(axis=1)\n",
    "# totalIncomePc = totalIncome/totalPop\n",
    "\n",
    "print(count,' countries in the sample.')\n",
    "\n",
    "incomePc.to_csv('crossCountryIncomePerCapita.csv',index_label='year')\n",
    "incomePcLog.to_csv('crossCountryIncomePerCapitaLog.csv',index_label='year')\n",
    "\n",
    "# 3.2 Other datasets\n",
    "\n",
    "def createDataSet(pwtCode='cgdpe',perCapita=True,perWorker=False,fileName='test'):\n",
    "    \n",
    "    newDict = {}\n",
    "    newPcDict = {}\n",
    "    newPwDict = {}\n",
    "    popDict = {}\n",
    "    employedDict = {}\n",
    "\n",
    "    for i,code in enumerate(countryCodes):\n",
    "        income = pwt.loc[pwt['countrycode'] == code]['cgdpe'].values\n",
    "        pop = pwt.loc[pwt['countrycode'] == code]['pop'].values\n",
    "        employed = pwt.loc[pwt['countrycode'] == code]['emp'].values\n",
    "        \n",
    "        incomePc = income/pop\n",
    "        new = pwt.loc[pwt['countrycode'] == code][pwtCode].values\n",
    "        newPc = new/pop\n",
    "        newPw = new/employed\n",
    "        \n",
    "        if code =='ZWE':\n",
    "            income = income[0:62]\n",
    "            incomePc = incomePc[0:62]\n",
    "            new = new[0:62]\n",
    "            newPc = newPc[0:62]\n",
    "            newPw = newPw[0:62]\n",
    "            pop = pop[0:62]\n",
    "            employed = employed[0:62]\n",
    "        if True not in [np.isnan(x) for x in incomePc[year0:]]:\n",
    "            newDict[countries[i]+' - '+code] = new[year0:].tolist()\n",
    "            newPcDict[countries[i]+' - '+code] = newPc[year0:].tolist()\n",
    "            newPwDict[countries[i]+' - '+code] = newPw[year0:].tolist()\n",
    "    \n",
    "    new = pd.DataFrame(newDict,index=years[year0:])\n",
    "    newPc = pd.DataFrame(newPcDict,index=years[year0:])\n",
    "    newPw = pd.DataFrame(newPwDict,index=years[year0:])\n",
    "    \n",
    "    new = np.round(new,5)\n",
    "    newPc = np.round(newPc,5)\n",
    "    newPw = np.round(newPw,5)\n",
    "\n",
    "    if perCapita == True:\n",
    "        newPc.to_csv(fileName+'.csv',index_label='year')\n",
    "        return newPc\n",
    "    elif perWorker == True:\n",
    "        newPw.to_csv(fileName+'.csv',index_label='year')\n",
    "        return newPw\n",
    "    else:\n",
    "        new.to_csv(fileName+'.csv',index_label='year')    \n",
    "        return new\n",
    "\n",
    "incomePw = createDataSet(pwtCode='cgdpe',perCapita=False,perWorker=True,fileName='crossCountryIncomePerWorker')\n",
    "outputPw = createDataSet(pwtCode='cgdpo',perCapita=False,perWorker=True,fileName='crossCountryOutputPerWorker')\n",
    "outputPc = createDataSet(pwtCode='cgdpo',perCapita=True,perWorker=False,fileName='crossCountryOutputPerCapita')\n",
    "consumptionPc = createDataSet(pwtCode='ccon',perCapita=True,perWorker=False,fileName='crossCountryConsumptionPerCapita')\n",
    "physicalCapitalPw = createDataSet(pwtCode='ck',perCapita=False,perWorker=True,fileName='crossCountryPhysicalCapitalPerWorker')\n",
    "physicalCapitalPc = createDataSet(pwtCode='ck',perCapita=True,perWorker=False,fileName='crossCountryPhysicalCapitalPerCapita')\n",
    "humanCapitalPc = createDataSet(pwtCode='hc',perCapita=False,perWorker=False,fileName='crossCountryHumanCapitalPerCapita')\n",
    "employed = createDataSet(pwtCode='hc',perCapita=False,perWorker=False,fileName='crossCountryEmployed')\n",
    "hours = createDataSet(pwtCode='avh',perCapita=False,perWorker=False,fileName='crossCountryHours')\n",
    "popluation = createDataSet(pwtCode='pop',perCapita=False,perWorker=False,fileName='crossCountryPopulation')\n",
    "savingRate = createDataSet(pwtCode='csh_i',perCapita=False,perWorker=False,fileName='crossCountrySavingRate')\n",
    "laborShare = createDataSet(pwtCode='labsh',perCapita=False,perWorker=False,fileName='crossCountryLaborShare')\n",
    "depreciation = createDataSet(pwtCode='delta',perCapita=False,perWorker=False,fileName='crossCountryDepreciationRate')"
   ]
  },
  {
   "cell_type": "code",
   "execution_count": null,
   "metadata": {
    "collapsed": false
   },
   "outputs": [],
   "source": [
    "# 4. Plot for website\n",
    "data = pd.read_csv('crossCountryIncomePerCapita.csv',index_col='year')\n",
    "income60 = data.iloc[0]/1000\n",
    "growth = 100*((data.iloc[-1]/data.iloc[0])**(1/(len(data.index)-1))-1)\n",
    "\n",
    "fig = plt.figure(figsize=(10, 6)) \n",
    "ax = fig.add_subplot(1,1,1)\n",
    "colors = ['red','blue','magenta','green']\n",
    "\n",
    "plt.scatter(income60,growth,s=0.0001)\n",
    "for i, txt in enumerate(data.columns):\n",
    "    \n",
    "    ax.annotate(txt[-3:], (income60[i],growth[i]),fontsize=10,color = colors[np.mod(i,4)])\n",
    "ax.grid()\n",
    "# ax.set_xscale('log')\n",
    "ax.set_xlabel('GDP per capita in 1960\\n (thousands of 2005 $ PPP)')\n",
    "ax.set_ylabel('Real GDP per capita growth\\nfrom 1970 to '+str(years[-1])+ ' (%)')\n",
    "ax.set_xlim([0,20])\n",
    "\n",
    "fig.tight_layout()\n",
    "# plt.savefig('fig_GDP_GDP_Growth_site.png',bbox_inches='tight')"
   ]
  },
  {
   "cell_type": "code",
   "execution_count": null,
   "metadata": {
    "collapsed": false
   },
   "outputs": [],
   "source": [
    "#5. Export notebook to python script\n",
    "runProcs.exportNb('crossCountryIncomeData')"
   ]
  }
 ],
 "metadata": {
  "kernelspec": {
   "display_name": "Python 3",
   "language": "python",
   "name": "python3"
  },
  "language_info": {
   "codemirror_mode": {
    "name": "ipython",
    "version": 3
   },
   "file_extension": ".py",
   "mimetype": "text/x-python",
   "name": "python",
   "nbconvert_exporter": "python",
   "pygments_lexer": "ipython3",
   "version": "3.4.3"
  }
 },
 "nbformat": 4,
 "nbformat_minor": 0
}
